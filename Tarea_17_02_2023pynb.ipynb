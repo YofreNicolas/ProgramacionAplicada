{
  "nbformat": 4,
  "nbformat_minor": 0,
  "metadata": {
    "colab": {
      "provenance": [],
      "authorship_tag": "ABX9TyPsPe9MPVdz2hRNxqNgMqwK",
      "include_colab_link": true
    },
    "kernelspec": {
      "name": "python3",
      "display_name": "Python 3"
    },
    "language_info": {
      "name": "python"
    }
  },
  "cells": [
    {
      "cell_type": "markdown",
      "metadata": {
        "id": "view-in-github",
        "colab_type": "text"
      },
      "source": [
        "<a href=\"https://colab.research.google.com/github/YofreNicolas/ProgramacionAplicada/blob/main/Tarea_17_02_2023pynb.ipynb\" target=\"_parent\"><img src=\"https://colab.research.google.com/assets/colab-badge.svg\" alt=\"Open In Colab\"/></a>"
      ]
    },
    {
      "cell_type": "code",
      "execution_count": 1,
      "metadata": {
        "colab": {
          "base_uri": "https://localhost:8080/"
        },
        "id": "N2seM_eLOpoF",
        "outputId": "866317bb-7588-4924-fcf4-0ef929881b51"
      },
      "outputs": [
        {
          "output_type": "stream",
          "name": "stdout",
          "text": [
            "0000000050\n"
          ]
        }
      ],
      "source": [
        "#txt = \"50\"\n",
        "\n",
        "#x = txt.zfill(10)\n",
        "\n",
        "#print(x)"
      ]
    },
    {
      "cell_type": "code",
      "source": [
        "#Yofre Nicolas Fajardo Gomez  20212005136\n",
        "txt=str(\"50\")\n",
        "x = 10\n",
        "cero = \"0\"*x \n",
        "print(cero[:x-len(txt)]+ txt)\n"
      ],
      "metadata": {
        "colab": {
          "base_uri": "https://localhost:8080/"
        },
        "id": "6243C-PgUO0Y",
        "outputId": "12e61647-a5c5-470b-af28-bbc8e2b0badb"
      },
      "execution_count": 37,
      "outputs": [
        {
          "output_type": "stream",
          "name": "stdout",
          "text": [
            "0000000050\n"
          ]
        }
      ]
    }
  ]
}